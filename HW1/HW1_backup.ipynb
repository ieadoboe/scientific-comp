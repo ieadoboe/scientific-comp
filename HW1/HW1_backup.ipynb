{
 "cells": [
  {
   "cell_type": "markdown",
   "id": "2d1d87a4",
   "metadata": {},
   "source": [
    "# CMSC6950 Homework #1\n",
    "\n",
    "Isaac Adoboe - ieadoboe@mun.ca"
   ]
  },
  {
   "cell_type": "markdown",
   "id": "6a3a2c7b",
   "metadata": {},
   "source": [
    "Before I start the assignment, I created this python notebook and a images folder to store the screenshots for the assignments. Below is how the folder looks now. "
   ]
  },
  {
   "cell_type": "markdown",
   "id": "2a3ea1bd",
   "metadata": {},
   "source": [
    "![1](HW1_images/1.png)"
   ]
  },
  {
   "cell_type": "markdown",
   "id": "484b06b7",
   "metadata": {},
   "source": [
    "![](HW1_images/2.png)"
   ]
  },
  {
   "cell_type": "markdown",
   "id": "d0c9235e",
   "metadata": {},
   "source": [
    "### Question 1"
   ]
  },
  {
   "cell_type": "markdown",
   "id": "7ad05993",
   "metadata": {},
   "source": [
    "Make `isaac_CMSC6950` directory"
   ]
  },
  {
   "cell_type": "markdown",
   "id": "530fd220",
   "metadata": {},
   "source": [
    "![](HW1_images/3.png)"
   ]
  },
  {
   "cell_type": "markdown",
   "id": "70026d7c",
   "metadata": {},
   "source": [
    "![](HW1_images/4.png)"
   ]
  },
  {
   "cell_type": "markdown",
   "id": "d379ba7e",
   "metadata": {},
   "source": [
    "Create `202384695` text file"
   ]
  },
  {
   "cell_type": "markdown",
   "id": "85885ce8",
   "metadata": {},
   "source": [
    "![](HW1_images/5.png)"
   ]
  },
  {
   "cell_type": "markdown",
   "id": "c2c4f1e9",
   "metadata": {},
   "source": [
    "Show contents and change to home directory"
   ]
  },
  {
   "cell_type": "markdown",
   "id": "219feafe",
   "metadata": {},
   "source": [
    "![](HW1_images/6.png)"
   ]
  },
  {
   "cell_type": "markdown",
   "id": "ad24318e",
   "metadata": {},
   "source": [
    "### Question 2"
   ]
  },
  {
   "cell_type": "markdown",
   "id": "d1a0cb75",
   "metadata": {},
   "source": [
    "Create `copmutational_science.txt` and renaming it"
   ]
  },
  {
   "cell_type": "markdown",
   "id": "a384082f",
   "metadata": {},
   "source": [
    "![](HW1_images/7.png)"
   ]
  },
  {
   "cell_type": "markdown",
   "id": "0eda762f",
   "metadata": {},
   "source": [
    "![](HW1_images/8.png)"
   ]
  },
  {
   "cell_type": "markdown",
   "id": "a69c38fd",
   "metadata": {},
   "source": [
    "Remove `computational_science.txt` and create `copmutational_science.txt`"
   ]
  },
  {
   "cell_type": "markdown",
   "id": "c9214b0e",
   "metadata": {},
   "source": [
    "![](HW1_images/9.png)"
   ]
  },
  {
   "cell_type": "markdown",
   "id": "427d24bd",
   "metadata": {},
   "source": [
    "### Question 3"
   ]
  },
  {
   "cell_type": "markdown",
   "id": "abbc7c0a",
   "metadata": {},
   "source": [
    "Before adding the `alkanes` folder"
   ]
  },
  {
   "cell_type": "markdown",
   "id": "1d040fde",
   "metadata": {},
   "source": [
    "![](HW1_images/10.png)"
   ]
  },
  {
   "cell_type": "markdown",
   "id": "8becf359",
   "metadata": {},
   "source": [
    "Copy `alkanes.zip` folder to working directory and unzipping"
   ]
  },
  {
   "cell_type": "markdown",
   "id": "bd7195f9",
   "metadata": {},
   "source": [
    "![](HW1_images/11.png)"
   ]
  },
  {
   "cell_type": "markdown",
   "id": "f903c222",
   "metadata": {},
   "source": [
    "![](HW1_images/12.png)"
   ]
  },
  {
   "cell_type": "markdown",
   "id": "a8d7d3f2",
   "metadata": {},
   "source": [
    "Total number of lines in all files"
   ]
  },
  {
   "cell_type": "markdown",
   "id": "ba061caa",
   "metadata": {},
   "source": [
    "![](HW1_images/13.png)"
   ]
  },
  {
   "cell_type": "markdown",
   "id": "6363e7b2",
   "metadata": {},
   "source": [
    "How many of the compounds have more than 6 atom’s listed in their file?"
   ]
  },
  {
   "cell_type": "markdown",
   "id": "e74c3909",
   "metadata": {},
   "source": [
    "![](HW1_images/14.png)"
   ]
  },
  {
   "cell_type": "markdown",
   "id": "ca1b737a",
   "metadata": {},
   "source": [
    "List the files in order of the decreasing number of lines."
   ]
  },
  {
   "cell_type": "markdown",
   "id": "0cb1c42c",
   "metadata": {},
   "source": [
    "![](HW1_images/15.png)"
   ]
  },
  {
   "cell_type": "markdown",
   "id": "e337fdf3",
   "metadata": {},
   "source": [
    "### Question 4"
   ]
  },
  {
   "cell_type": "markdown",
   "id": "bddff9e4",
   "metadata": {},
   "source": [
    "(a) Begin with either the word “Meg” or the word “Jo”"
   ]
  },
  {
   "cell_type": "markdown",
   "id": "4b01fd52",
   "metadata": {},
   "source": [
    "![](HW1_images/16.png)"
   ]
  },
  {
   "cell_type": "markdown",
   "id": "9c96fe0f",
   "metadata": {},
   "source": [
    "(b) Begin with the word “The” followed by a space"
   ]
  },
  {
   "cell_type": "markdown",
   "id": "99dfc9a8",
   "metadata": {},
   "source": [
    "![](HW1_images/17.png)"
   ]
  },
  {
   "cell_type": "markdown",
   "id": "6a532a26",
   "metadata": {},
   "source": [
    "(c) Contain a word with any letter, followed by qu followed by exactly six more letters"
   ]
  },
  {
   "cell_type": "markdown",
   "id": "4e3c2161",
   "metadata": {},
   "source": [
    "![](HW1_images/18.png)"
   ]
  },
  {
   "cell_type": "markdown",
   "id": "4b6c251f",
   "metadata": {},
   "source": [
    "(d) Ends with either the word “time” or “times” followed by a period."
   ]
  },
  {
   "cell_type": "markdown",
   "id": "b1c6de47",
   "metadata": {},
   "source": [
    "![](HW1_images/19.png)"
   ]
  },
  {
   "cell_type": "markdown",
   "id": "67fdab32",
   "metadata": {},
   "source": []
  }
 ],
 "metadata": {
  "kernelspec": {
   "display_name": "Python 3",
   "language": "python",
   "name": "python3"
  },
  "language_info": {
   "codemirror_mode": {
    "name": "ipython",
    "version": 3
   },
   "file_extension": ".py",
   "mimetype": "text/x-python",
   "name": "python",
   "nbconvert_exporter": "python",
   "pygments_lexer": "ipython3",
   "version": "3.13.2"
  }
 },
 "nbformat": 4,
 "nbformat_minor": 5
}
